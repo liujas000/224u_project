{
 "cells": [
  {
   "cell_type": "markdown",
   "metadata": {},
   "source": [
    "Takes in artist similarity scores and artist feature representations and generates features (absolute difference between the two artists' feature representations) for each score. Splits into training/test sets."
   ]
  },
  {
   "cell_type": "code",
   "execution_count": 11,
   "metadata": {},
   "outputs": [],
   "source": [
    "import numpy as np\n",
    "from util import load_filtered\n",
    "from util import load_similarity\n",
    "from collections import defaultdict"
   ]
  },
  {
   "cell_type": "code",
   "execution_count": 2,
   "metadata": {},
   "outputs": [
    {
     "name": "stdout",
     "output_type": "stream",
     "text": [
      "154781\n"
     ]
    }
   ],
   "source": [
    "data = load_filtered('data/lyrics_380k.csv')"
   ]
  },
  {
   "cell_type": "code",
   "execution_count": 3,
   "metadata": {},
   "outputs": [
    {
     "name": "stdout",
     "output_type": "stream",
     "text": [
      "2944\n"
     ]
    }
   ],
   "source": [
    "artist_list = list(sorted(data.keys())) # map every artist to an index\n",
    "\n",
    "num_artists = len(artist_list)\n",
    "print(num_artists)"
   ]
  },
  {
   "cell_type": "code",
   "execution_count": 4,
   "metadata": {},
   "outputs": [
    {
     "name": "stdout",
     "output_type": "stream",
     "text": [
      "13912\n"
     ]
    }
   ],
   "source": [
    "artist_scores = load_similarity('data/similarity/good_filtered.csv') # list of (artist1, artist2, similarity score) tuples\n",
    "\n",
    "num_scores = (len(artist_scores))\n",
    "print(num_scores)"
   ]
  },
  {
   "cell_type": "code",
   "execution_count": 12,
   "metadata": {},
   "outputs": [
    {
     "name": "stdout",
     "output_type": "stream",
     "text": [
      "(2944, 395)\n"
     ]
    }
   ],
   "source": [
    "artist_features = np.load('data/artist_agg_features.npy') # Numpy array of artist features\n",
    "\n",
    "print(artist_features.shape)"
   ]
  },
  {
   "cell_type": "code",
   "execution_count": 13,
   "metadata": {},
   "outputs": [],
   "source": [
    "# Generate numpy array of all features of artist similiarities. Features are the absolute difference between the two artists and the score is the similarity score\n",
    "# Inputs:\n",
    "#    artist_list: list of artists in same order as artist_features, used to get indices\n",
    "#    artist_features: Numpy array of artist feature representations\n",
    "#    artist_scores: list of similarity scores between pairs of artists\n",
    "# Outputs:\n",
    "#    similarity_features: Numpy array of similarity features\n",
    "#    similarity_scores: Numpy array of similarity scores corresponding to features in similarity_features\n",
    "#    artist_indices: dict from artist to a list of which indices in similarity_features and similarity_scores they are involved in\n",
    "def get_similarity_features(artist_list, artist_features, artist_scores):\n",
    "    \n",
    "    num_scores = len(artist_scores)\n",
    "    \n",
    "    similarity_features = np.zeros((num_scores, artist_features.shape[1]))\n",
    "    similarity_scores = np.zeros(num_scores)\n",
    "    \n",
    "    artist_indices = defaultdict(list)\n",
    "    \n",
    "    # For each similarity scores, generate that feature by taking absolute difference of the two artists' feature rep\n",
    "    for i in range(num_scores):\n",
    "        \n",
    "        artist1, artist2, score = artist_scores[i]\n",
    "        \n",
    "        artist1_ind = artist_list.index(artist1)\n",
    "        artist2_ind = artist_list.index(artist2)\n",
    "        \n",
    "        artist1_feat = artist_features[artist1_ind]\n",
    "        artist2_feat = artist_features[artist2_ind]\n",
    "        \n",
    "        similarity_feat = np.absolute(artist1_feat - artist2_feat)\n",
    "        \n",
    "        similarity_features[i] = similarity_feat\n",
    "        similarity_scores[i] = score\n",
    "        \n",
    "        artist_indices[artist1].append(i)\n",
    "        artist_indices[artist2].append(i)\n",
    "    \n",
    "    return similarity_features, similarity_scores, artist_indices"
   ]
  },
  {
   "cell_type": "code",
   "execution_count": 14,
   "metadata": {},
   "outputs": [
    {
     "name": "stdout",
     "output_type": "stream",
     "text": [
      "(13912, 395) (13912,) 2944\n"
     ]
    }
   ],
   "source": [
    "similarity_features, similarity_scores, artist_indices = get_similarity_features(artist_list, artist_features, artist_scores)\n",
    "\n",
    "print(similarity_features.shape, similarity_scores.shape, len(artist_indices))"
   ]
  },
  {
   "cell_type": "code",
   "execution_count": 15,
   "metadata": {},
   "outputs": [],
   "source": [
    "# Generate training/testing splits for similarity features and scores without artist overlap between train/test sets\n",
    "# Inputs:\n",
    "#    artist_list: list of artists, used to randomly select\n",
    "#    similarity_features: Numpy array of similarity features\n",
    "#    similarity_scores: Numpy array of similarity scores corresponding to features in similarity_features\n",
    "#    artist_indices: dict from artist to a list of which indices in similarity_features and similarity_scores they are involved in\n",
    "#    train_split: decimal representing what percentage of the artists to keep as the training split \n",
    "# Outputs:\n",
    "#    train_features: training set of similarity features\n",
    "#    train_scores: training set of similarity scores corresponding to train_features\n",
    "#    test_features: testing set of simliarity features\n",
    "#    test_scores: test set of similarity scores corresponding to test_features\n",
    "def split_train_test(artist_list, similarity_features, similarity_scores, artist_indices, train_split):\n",
    "    \n",
    "    num_artists = len(artist_list)\n",
    "    \n",
    "    # Make copy of artist_list to shuffle\n",
    "    artist_copy = list(artist_list)\n",
    "    np.random.shuffle(artist_copy)\n",
    "    \n",
    "    # Split into training and test sets\n",
    "    split_ind = int(round(train_split * num_artists))\n",
    "    train_artists = artist_copy[:split_ind]\n",
    "    test_artists = artist_copy[split_ind:]\n",
    "    \n",
    "    train_inds = []\n",
    "    for artist in train_artists:\n",
    "        train_inds += artist_indices[artist]\n",
    "    \n",
    "    train_inds = set(train_inds)\n",
    "    \n",
    "    test_inds = []\n",
    "    for artist in test_artists:\n",
    "        test_inds += artist_indices[artist]\n",
    "    \n",
    "    test_inds = set(test_inds)\n",
    "    \n",
    "    # Remove intersection between lists\n",
    "    train_test_intersection = train_inds.intersection(test_inds)\n",
    "    \n",
    "    train_inds = sorted(list(train_inds - train_test_intersection))\n",
    "    test_inds = sorted(list(test_inds - train_test_intersection))\n",
    "    \n",
    "    train_features = similarity_features[train_inds]\n",
    "    train_scores = similarity_scores[train_inds]\n",
    "    \n",
    "    test_features = similarity_features[test_inds]\n",
    "    test_scores = similarity_scores[test_inds]\n",
    "    \n",
    "    return train_features, train_scores, test_features, test_scores"
   ]
  },
  {
   "cell_type": "code",
   "execution_count": 16,
   "metadata": {},
   "outputs": [
    {
     "name": "stdout",
     "output_type": "stream",
     "text": [
      "(6905, 395) (6905,) (1211, 395) (1211,)\n",
      "Num Final Scores: 8116\n",
      "% of Train Scores: 0.8507885657959586\n",
      "% of Test Scores: 0.1492114342040414\n"
     ]
    }
   ],
   "source": [
    "train_features, train_scores, test_features, test_scores = split_train_test(artist_list, similarity_features, similarity_scores, artist_indices, 0.7)\n",
    "\n",
    "print(train_features.shape, train_scores.shape, test_features.shape, test_scores.shape)\n",
    "num_final_scores = len(train_features) + len(test_features)\n",
    "print('Num Final Scores:', num_final_scores)\n",
    "print('% of Train Scores:', float(len(train_features)) / num_final_scores)\n",
    "print('% of Test Scores:', float(len(test_features)) / num_final_scores)"
   ]
  },
  {
   "cell_type": "code",
   "execution_count": 17,
   "metadata": {},
   "outputs": [],
   "source": [
    "np.save('data/similarity/train_sim_features.npy', train_features)\n",
    "np.save('data/similarity/train_sim_scores.npy', train_scores)\n",
    "np.save('data/similarity/test_sim_features.npy', test_features)\n",
    "np.save('data/similarity/test_sim_scores.npy', test_scores)"
   ]
  },
  {
   "cell_type": "code",
   "execution_count": null,
   "metadata": {
    "collapsed": true
   },
   "outputs": [],
   "source": []
  }
 ],
 "metadata": {
  "kernelspec": {
   "display_name": "Python [default]",
   "language": "python",
   "name": "python3"
  },
  "language_info": {
   "codemirror_mode": {
    "name": "ipython",
    "version": 3
   },
   "file_extension": ".py",
   "mimetype": "text/x-python",
   "name": "python",
   "nbconvert_exporter": "python",
   "pygments_lexer": "ipython3",
   "version": "3.6.4"
  }
 },
 "nbformat": 4,
 "nbformat_minor": 2
}
