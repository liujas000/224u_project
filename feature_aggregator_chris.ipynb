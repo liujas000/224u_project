{
 "cells": [
  {
   "cell_type": "markdown",
   "metadata": {},
   "source": [
    "This notebook helps us aggregate features by artist now"
   ]
  },
  {
   "cell_type": "code",
   "execution_count": 27,
   "metadata": {},
   "outputs": [],
   "source": [
    "import numpy as np\n",
    "from util import load_filtered, print_genre_statistics"
   ]
  },
  {
   "cell_type": "code",
   "execution_count": 2,
   "metadata": {},
   "outputs": [
    {
     "name": "stdout",
     "output_type": "stream",
     "text": [
      "154781\n"
     ]
    }
   ],
   "source": [
    "data = load_filtered('data/lyrics_380k.csv')"
   ]
  },
  {
   "cell_type": "code",
   "execution_count": 3,
   "metadata": {},
   "outputs": [],
   "source": [
    "artist_list = list(sorted(data.keys())) # map every artist to an index"
   ]
  },
  {
   "cell_type": "code",
   "execution_count": 4,
   "metadata": {},
   "outputs": [
    {
     "name": "stdout",
     "output_type": "stream",
     "text": [
      "2944\n"
     ]
    }
   ],
   "source": [
    "num_artists = len(artist_list)\n",
    "print(num_artists)"
   ]
  },
  {
   "cell_type": "code",
   "execution_count": 6,
   "metadata": {},
   "outputs": [],
   "source": [
    "bow_pca = np.load('data/features_filtered/bow_pca_feat_2_filt.npy')\n",
    "length = np.load('data/features_filtered/length_feature_filt.npy')\n",
    "rid = np.load('data/features_filtered/rid_feat_filt.npy')\n",
    "pos = np.load('data/features_filtered/pos_feat_filt.npy')\n",
    "ttr = np.load('data/features_filtered/ttr_filt.npy')\n",
    "uncommon = np.load('data/features_filtered/uncommon_filt.npy')"
   ]
  },
  {
   "cell_type": "code",
   "execution_count": 7,
   "metadata": {},
   "outputs": [
    {
     "name": "stdout",
     "output_type": "stream",
     "text": [
      "(154781, 300) (154781, 4) (154781, 43) (154781, 46) (154781, 1) (154781, 1)\n"
     ]
    }
   ],
   "source": [
    "ttr = ttr.reshape((ttr.shape[0], 1))\n",
    "uncommon = uncommon.reshape((uncommon.shape[0], 1))\n",
    "\n",
    "print(bow_pca.shape, length.shape, rid.shape, pos.shape, ttr.shape, uncommon.shape)"
   ]
  },
  {
   "cell_type": "code",
   "execution_count": 8,
   "metadata": {},
   "outputs": [
    {
     "name": "stdout",
     "output_type": "stream",
     "text": [
      "(154781, 395)\n"
     ]
    }
   ],
   "source": [
    "combined = np.concatenate((bow_pca, length, rid, pos, ttr, uncommon), axis=1)\n",
    "print(combined.shape)"
   ]
  },
  {
   "cell_type": "code",
   "execution_count": 10,
   "metadata": {},
   "outputs": [
    {
     "name": "stdout",
     "output_type": "stream",
     "text": [
      "(2944, 395)\n"
     ]
    }
   ],
   "source": [
    "result = np.zeros((num_artists, combined.shape[1]))\n",
    "\n",
    "for a in data:\n",
    "    inds = data[a]['indices']\n",
    "    sliced = combined[inds]\n",
    "    reduce = np.mean(sliced, axis=0)\n",
    "    a_row = artist_list.index(a)\n",
    "    result[a_row] = reduce\n",
    "\n",
    "print(result.shape)"
   ]
  },
  {
   "cell_type": "code",
   "execution_count": 11,
   "metadata": {},
   "outputs": [],
   "source": [
    "np.save('data/artist_agg_features.npy', result)"
   ]
  },
  {
   "cell_type": "code",
   "execution_count": 21,
   "metadata": {},
   "outputs": [
    {
     "name": "stdout",
     "output_type": "stream",
     "text": [
      "0.0 1.0\n"
     ]
    }
   ],
   "source": [
    "x = uncommon\n",
    "print(np.min(x), np.max(x))"
   ]
  },
  {
   "cell_type": "code",
   "execution_count": 26,
   "metadata": {},
   "outputs": [
    {
     "data": {
      "text/plain": [
       "(array([31.,  3.,  2.,  2.,  3.,  2.,  1.,  0.,  1.,  1.]),\n",
       " array([ 0. ,  8.5, 17. , 25.5, 34. , 42.5, 51. , 59.5, 68. , 76.5, 85. ]),\n",
       " <a list of 10 Patch objects>)"
      ]
     },
     "execution_count": 26,
     "metadata": {},
     "output_type": "execute_result"
    },
    {
     "data": {
      "image/png": "[encoded data removed]",
      "text/plain": [
       "<matplotlib.figure.Figure at 0x158d9e668>"
      ]
     },
     "metadata": {},
     "output_type": "display_data"
    }
   ],
   "source": [
    "plt.hist(pos[100])"
   ]
  },
  {
   "cell_type": "code",
   "execution_count": 28,
   "metadata": {},
   "outputs": [
    {
     "name": "stdout",
     "output_type": "stream",
     "text": [
      "{'Pop': 428, 'Hip-Hop': 268, 'Country': 164, 'Jazz': 126, 'Electronic': 145, 'Rock': 1151, 'Metal': 313, 'Other': 87, 'Not Available': 132, 'Indie': 52, 'R&B': 57, 'Folk': 21}\n"
     ]
    }
   ],
   "source": [
    "print_genre_statistics(data)"
   ]
  },
  {
   "cell_type": "code",
   "execution_count": null,
   "metadata": {},
   "outputs": [],
   "source": []
  }
 ],
 "metadata": {
  "kernelspec": {
   "display_name": "Python [default]",
   "language": "python",
   "name": "python3"
  },
  "language_info": {
   "codemirror_mode": {
    "name": "ipython",
    "version": 3
   },
   "file_extension": ".py",
   "mimetype": "text/x-python",
   "name": "python",
   "nbconvert_exporter": "python",
   "pygments_lexer": "ipython3",
   "version": "3.6.4"
  }
 },
 "nbformat": 4,
 "nbformat_minor": 2
}
